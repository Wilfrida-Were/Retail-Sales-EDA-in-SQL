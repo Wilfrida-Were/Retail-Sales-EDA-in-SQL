{
 "cells": [
  {
   "cell_type": "markdown",
   "id": "58aae13e",
   "metadata": {
    "_cell_guid": "95dd73df-1d7f-4c76-b50c-087ffa9b193d",
    "_uuid": "f9991f51-816f-47d5-9d34-5d23f6830523",
    "papermill": {
     "duration": 0.01209,
     "end_time": "2024-05-29T08:50:06.108945",
     "exception": false,
     "start_time": "2024-05-29T08:50:06.096855",
     "status": "completed"
    },
    "tags": []
   },
   "source": [
    "# **Retail Sales EDA in SQL**\n",
    "\n",
    "This **[Retail Sales Dataset](https://www.kaggle.com/datasets/mohammadtalib786/retail-sales-dataset/data)** is a snapshot of a fictional retail landscape, capturing essential attributes that drive retail operations and customer interactions. It includes key details such as `Transaction ID`, `Date`, `Customer ID`, `Gender`, `Age`, `Product Category`, `Quantity`, `Price per Unit`, and `Total Amount`.\n",
    "\n",
    "These are the analyses I will perform:\n",
    "\n",
    "* Analysis 1: Customer`Age`, `Gender`, and Purchasing Behaviour\n",
    "* Analysis 2: Top `Product Category` for each `Age` and `Gender`\n",
    "* Analysis 3: Customer Purchases by `Quantity`, `Age`, `Gender`, and `Product Category`\n",
    "* Analysis 4: `Price per Unit` Comparison by `Product Category`"
   ]
  },
  {
   "cell_type": "code",
   "execution_count": 1,
   "id": "2315382d",
   "metadata": {
    "_cell_guid": "990e4c27-aac6-46fd-980a-fc05bc299dba",
    "_uuid": "681e54bf-24e3-4fb1-97cb-b4bca9f23a0b",
    "collapsed": false,
    "execution": {
     "iopub.execute_input": "2024-05-29T08:50:06.134521Z",
     "iopub.status.busy": "2024-05-29T08:50:06.133988Z",
     "iopub.status.idle": "2024-05-29T08:50:08.923865Z",
     "shell.execute_reply": "2024-05-29T08:50:08.922226Z"
    },
    "jupyter": {
     "outputs_hidden": false
    },
    "papermill": {
     "duration": 2.806703,
     "end_time": "2024-05-29T08:50:08.927195",
     "exception": false,
     "start_time": "2024-05-29T08:50:06.120492",
     "status": "completed"
    },
    "tags": []
   },
   "outputs": [],
   "source": [
    "# Import libraries\n",
    "import pandas as pd\n",
    "import matplotlib.pyplot as plt\n",
    "import seaborn as sns\n",
    "import sqlite3  # for using SQL commands"
   ]
  },
  {
   "cell_type": "code",
   "execution_count": 2,
   "id": "7de1933d",
   "metadata": {
    "_cell_guid": "7b5b2b44-0a95-4418-bea6-2e04685c0512",
    "_uuid": "6f7f1770-b3f1-42cb-9162-4bdcf0a83902",
    "collapsed": false,
    "execution": {
     "iopub.execute_input": "2024-05-29T08:50:08.951811Z",
     "iopub.status.busy": "2024-05-29T08:50:08.951213Z",
     "iopub.status.idle": "2024-05-29T08:50:09.008394Z",
     "shell.execute_reply": "2024-05-29T08:50:09.007448Z"
    },
    "jupyter": {
     "outputs_hidden": false
    },
    "papermill": {
     "duration": 0.072385,
     "end_time": "2024-05-29T08:50:09.010749",
     "exception": false,
     "start_time": "2024-05-29T08:50:08.938364",
     "status": "completed"
    },
    "tags": []
   },
   "outputs": [
    {
     "data": {
      "text/html": [
       "<div>\n",
       "<style scoped>\n",
       "    .dataframe tbody tr th:only-of-type {\n",
       "        vertical-align: middle;\n",
       "    }\n",
       "\n",
       "    .dataframe tbody tr th {\n",
       "        vertical-align: top;\n",
       "    }\n",
       "\n",
       "    .dataframe thead th {\n",
       "        text-align: right;\n",
       "    }\n",
       "</style>\n",
       "<table border=\"1\" class=\"dataframe\">\n",
       "  <thead>\n",
       "    <tr style=\"text-align: right;\">\n",
       "      <th></th>\n",
       "      <th>Transaction ID</th>\n",
       "      <th>Date</th>\n",
       "      <th>Customer ID</th>\n",
       "      <th>Gender</th>\n",
       "      <th>Age</th>\n",
       "      <th>Product Category</th>\n",
       "      <th>Quantity</th>\n",
       "      <th>Price per Unit</th>\n",
       "      <th>Total Amount</th>\n",
       "    </tr>\n",
       "  </thead>\n",
       "  <tbody>\n",
       "    <tr>\n",
       "      <th>0</th>\n",
       "      <td>1</td>\n",
       "      <td>2023-11-24</td>\n",
       "      <td>CUST001</td>\n",
       "      <td>Male</td>\n",
       "      <td>34</td>\n",
       "      <td>Beauty</td>\n",
       "      <td>3</td>\n",
       "      <td>50</td>\n",
       "      <td>150</td>\n",
       "    </tr>\n",
       "    <tr>\n",
       "      <th>1</th>\n",
       "      <td>2</td>\n",
       "      <td>2023-02-27</td>\n",
       "      <td>CUST002</td>\n",
       "      <td>Female</td>\n",
       "      <td>26</td>\n",
       "      <td>Clothing</td>\n",
       "      <td>2</td>\n",
       "      <td>500</td>\n",
       "      <td>1000</td>\n",
       "    </tr>\n",
       "    <tr>\n",
       "      <th>2</th>\n",
       "      <td>3</td>\n",
       "      <td>2023-01-13</td>\n",
       "      <td>CUST003</td>\n",
       "      <td>Male</td>\n",
       "      <td>50</td>\n",
       "      <td>Electronics</td>\n",
       "      <td>1</td>\n",
       "      <td>30</td>\n",
       "      <td>30</td>\n",
       "    </tr>\n",
       "    <tr>\n",
       "      <th>3</th>\n",
       "      <td>4</td>\n",
       "      <td>2023-05-21</td>\n",
       "      <td>CUST004</td>\n",
       "      <td>Male</td>\n",
       "      <td>37</td>\n",
       "      <td>Clothing</td>\n",
       "      <td>1</td>\n",
       "      <td>500</td>\n",
       "      <td>500</td>\n",
       "    </tr>\n",
       "    <tr>\n",
       "      <th>4</th>\n",
       "      <td>5</td>\n",
       "      <td>2023-05-06</td>\n",
       "      <td>CUST005</td>\n",
       "      <td>Male</td>\n",
       "      <td>30</td>\n",
       "      <td>Beauty</td>\n",
       "      <td>2</td>\n",
       "      <td>50</td>\n",
       "      <td>100</td>\n",
       "    </tr>\n",
       "  </tbody>\n",
       "</table>\n",
       "</div>"
      ],
      "text/plain": [
       "   Transaction ID        Date Customer ID  Gender  Age Product Category  \\\n",
       "0               1  2023-11-24     CUST001    Male   34           Beauty   \n",
       "1               2  2023-02-27     CUST002  Female   26         Clothing   \n",
       "2               3  2023-01-13     CUST003    Male   50      Electronics   \n",
       "3               4  2023-05-21     CUST004    Male   37         Clothing   \n",
       "4               5  2023-05-06     CUST005    Male   30           Beauty   \n",
       "\n",
       "   Quantity  Price per Unit  Total Amount  \n",
       "0         3              50           150  \n",
       "1         2             500          1000  \n",
       "2         1              30            30  \n",
       "3         1             500           500  \n",
       "4         2              50           100  "
      ]
     },
     "execution_count": 2,
     "metadata": {},
     "output_type": "execute_result"
    }
   ],
   "source": [
    "# Load the dataset\n",
    "retail_data = pd.read_csv('/kaggle/input/retail-sales-dataset/retail_sales_dataset.csv')\n",
    "\n",
    "df = retail_data.copy() # make a copy of the original data\n",
    "df.head()"
   ]
  },
  {
   "cell_type": "markdown",
   "id": "82416c18",
   "metadata": {
    "_cell_guid": "3f9e4cfb-fa1a-47c0-9c7f-a2534ea790e8",
    "_uuid": "ff3df45b-a75c-447f-a159-bc0583e70c43",
    "papermill": {
     "duration": 0.011348,
     "end_time": "2024-05-29T08:50:09.033833",
     "exception": false,
     "start_time": "2024-05-29T08:50:09.022485",
     "status": "completed"
    },
    "tags": []
   },
   "source": [
    "# Data Cleaning\n",
    "\n",
    "Since this particular dataset has **No Missing values**, I will confirm if there are unexpected values by checking for *unique values* in each column and identifying potential *outliers*\n",
    "\n",
    "Yes, the analyses will eventually be performed using ***SQL commands***. To me, Data Cleaning is easier in Python. Please reach out if you have any cheat sheet or effective ways to clean data using SQL"
   ]
  },
  {
   "cell_type": "code",
   "execution_count": 3,
   "id": "dc1960df",
   "metadata": {
    "_cell_guid": "b040f6cf-eab0-4359-bb82-ddb3f03ef219",
    "_uuid": "4e30e60e-35ea-41bc-8ed1-1f6527e2d2ea",
    "collapsed": false,
    "execution": {
     "iopub.execute_input": "2024-05-29T08:50:09.058726Z",
     "iopub.status.busy": "2024-05-29T08:50:09.058312Z",
     "iopub.status.idle": "2024-05-29T08:50:09.084826Z",
     "shell.execute_reply": "2024-05-29T08:50:09.083212Z"
    },
    "jupyter": {
     "outputs_hidden": false
    },
    "papermill": {
     "duration": 0.041781,
     "end_time": "2024-05-29T08:50:09.087361",
     "exception": false,
     "start_time": "2024-05-29T08:50:09.045580",
     "status": "completed"
    },
    "tags": []
   },
   "outputs": [
    {
     "name": "stdout",
     "output_type": "stream",
     "text": [
      "<class 'pandas.core.frame.DataFrame'>\n",
      "RangeIndex: 1000 entries, 0 to 999\n",
      "Data columns (total 9 columns):\n",
      " #   Column            Non-Null Count  Dtype \n",
      "---  ------            --------------  ----- \n",
      " 0   Transaction ID    1000 non-null   int64 \n",
      " 1   Date              1000 non-null   object\n",
      " 2   Customer ID       1000 non-null   object\n",
      " 3   Gender            1000 non-null   object\n",
      " 4   Age               1000 non-null   int64 \n",
      " 5   Product Category  1000 non-null   object\n",
      " 6   Quantity          1000 non-null   int64 \n",
      " 7   Price per Unit    1000 non-null   int64 \n",
      " 8   Total Amount      1000 non-null   int64 \n",
      "dtypes: int64(5), object(4)\n",
      "memory usage: 70.4+ KB\n"
     ]
    }
   ],
   "source": [
    "df.info()  # 1000 rows and 9 columns"
   ]
  },
  {
   "cell_type": "code",
   "execution_count": 4,
   "id": "3a3476cd",
   "metadata": {
    "_cell_guid": "1d0807b1-3600-45d8-90b9-bc33a869c73c",
    "_uuid": "0329d89f-f934-465c-85d4-b6d7a3f0a91a",
    "collapsed": false,
    "execution": {
     "iopub.execute_input": "2024-05-29T08:50:09.112539Z",
     "iopub.status.busy": "2024-05-29T08:50:09.111477Z",
     "iopub.status.idle": "2024-05-29T08:50:09.130943Z",
     "shell.execute_reply": "2024-05-29T08:50:09.129599Z"
    },
    "jupyter": {
     "outputs_hidden": false
    },
    "papermill": {
     "duration": 0.034844,
     "end_time": "2024-05-29T08:50:09.133565",
     "exception": false,
     "start_time": "2024-05-29T08:50:09.098721",
     "status": "completed"
    },
    "tags": []
   },
   "outputs": [
    {
     "data": {
      "text/html": [
       "<div>\n",
       "<style scoped>\n",
       "    .dataframe tbody tr th:only-of-type {\n",
       "        vertical-align: middle;\n",
       "    }\n",
       "\n",
       "    .dataframe tbody tr th {\n",
       "        vertical-align: top;\n",
       "    }\n",
       "\n",
       "    .dataframe thead th {\n",
       "        text-align: right;\n",
       "    }\n",
       "</style>\n",
       "<table border=\"1\" class=\"dataframe\">\n",
       "  <thead>\n",
       "    <tr style=\"text-align: right;\">\n",
       "      <th></th>\n",
       "      <th>Transaction_ID</th>\n",
       "      <th>Date</th>\n",
       "      <th>Customer_ID</th>\n",
       "      <th>Gender</th>\n",
       "      <th>Age</th>\n",
       "      <th>Product_Category</th>\n",
       "      <th>Quantity</th>\n",
       "      <th>Price_per_Unit</th>\n",
       "      <th>Total_Amount</th>\n",
       "    </tr>\n",
       "  </thead>\n",
       "  <tbody>\n",
       "    <tr>\n",
       "      <th>0</th>\n",
       "      <td>1</td>\n",
       "      <td>2023-11-24</td>\n",
       "      <td>CUST001</td>\n",
       "      <td>Male</td>\n",
       "      <td>34</td>\n",
       "      <td>Beauty</td>\n",
       "      <td>3</td>\n",
       "      <td>50</td>\n",
       "      <td>150</td>\n",
       "    </tr>\n",
       "    <tr>\n",
       "      <th>1</th>\n",
       "      <td>2</td>\n",
       "      <td>2023-02-27</td>\n",
       "      <td>CUST002</td>\n",
       "      <td>Female</td>\n",
       "      <td>26</td>\n",
       "      <td>Clothing</td>\n",
       "      <td>2</td>\n",
       "      <td>500</td>\n",
       "      <td>1000</td>\n",
       "    </tr>\n",
       "    <tr>\n",
       "      <th>2</th>\n",
       "      <td>3</td>\n",
       "      <td>2023-01-13</td>\n",
       "      <td>CUST003</td>\n",
       "      <td>Male</td>\n",
       "      <td>50</td>\n",
       "      <td>Electronics</td>\n",
       "      <td>1</td>\n",
       "      <td>30</td>\n",
       "      <td>30</td>\n",
       "    </tr>\n",
       "    <tr>\n",
       "      <th>3</th>\n",
       "      <td>4</td>\n",
       "      <td>2023-05-21</td>\n",
       "      <td>CUST004</td>\n",
       "      <td>Male</td>\n",
       "      <td>37</td>\n",
       "      <td>Clothing</td>\n",
       "      <td>1</td>\n",
       "      <td>500</td>\n",
       "      <td>500</td>\n",
       "    </tr>\n",
       "    <tr>\n",
       "      <th>4</th>\n",
       "      <td>5</td>\n",
       "      <td>2023-05-06</td>\n",
       "      <td>CUST005</td>\n",
       "      <td>Male</td>\n",
       "      <td>30</td>\n",
       "      <td>Beauty</td>\n",
       "      <td>2</td>\n",
       "      <td>50</td>\n",
       "      <td>100</td>\n",
       "    </tr>\n",
       "  </tbody>\n",
       "</table>\n",
       "</div>"
      ],
      "text/plain": [
       "   Transaction_ID        Date Customer_ID  Gender  Age Product_Category  \\\n",
       "0               1  2023-11-24     CUST001    Male   34           Beauty   \n",
       "1               2  2023-02-27     CUST002  Female   26         Clothing   \n",
       "2               3  2023-01-13     CUST003    Male   50      Electronics   \n",
       "3               4  2023-05-21     CUST004    Male   37         Clothing   \n",
       "4               5  2023-05-06     CUST005    Male   30           Beauty   \n",
       "\n",
       "   Quantity  Price_per_Unit  Total_Amount  \n",
       "0         3              50           150  \n",
       "1         2             500          1000  \n",
       "2         1              30            30  \n",
       "3         1             500           500  \n",
       "4         2              50           100  "
      ]
     },
     "execution_count": 4,
     "metadata": {},
     "output_type": "execute_result"
    }
   ],
   "source": [
    "# Rename column names by replacing spaces with underscores \n",
    "\n",
    "def rename_columns(df):\n",
    "  \"\"\"Renames columns in a DataFrame by replacing spaces with underscores.\n",
    "\n",
    "  Args:\n",
    "      df: The DataFrame to rename the columns of.\n",
    "\n",
    "  Returns:\n",
    "      A new DataFrame with the renamed columns.\n",
    "  \"\"\"\n",
    "  df.columns = [col.replace(' ', '_') for col in df.columns]\n",
    "  return df\n",
    "\n",
    "df = rename_columns(df.copy())\n",
    "df.head()"
   ]
  },
  {
   "cell_type": "code",
   "execution_count": 5,
   "id": "396c2343",
   "metadata": {
    "_cell_guid": "54f3ec3c-b46d-4d25-818c-e9d050f56311",
    "_uuid": "ec099f02-5717-4fd8-860d-426f55e746dd",
    "collapsed": false,
    "execution": {
     "iopub.execute_input": "2024-05-29T08:50:09.160674Z",
     "iopub.status.busy": "2024-05-29T08:50:09.159752Z",
     "iopub.status.idle": "2024-05-29T08:50:09.171751Z",
     "shell.execute_reply": "2024-05-29T08:50:09.170526Z"
    },
    "jupyter": {
     "outputs_hidden": false
    },
    "papermill": {
     "duration": 0.029099,
     "end_time": "2024-05-29T08:50:09.174510",
     "exception": false,
     "start_time": "2024-05-29T08:50:09.145411",
     "status": "completed"
    },
    "tags": []
   },
   "outputs": [],
   "source": [
    "# Date column is an object. Convert to datetime dtype to enable Date specific analyses\n",
    "df['Date'] = pd.to_datetime(df['Date'])"
   ]
  },
  {
   "cell_type": "code",
   "execution_count": 6,
   "id": "147a4078",
   "metadata": {
    "_cell_guid": "f221a5f6-e9bc-4591-b89c-ef124d6dcdf6",
    "_uuid": "78b8456a-bd91-4f44-88e2-54ae22de468e",
    "collapsed": false,
    "execution": {
     "iopub.execute_input": "2024-05-29T08:50:09.199896Z",
     "iopub.status.busy": "2024-05-29T08:50:09.199236Z",
     "iopub.status.idle": "2024-05-29T08:50:09.212745Z",
     "shell.execute_reply": "2024-05-29T08:50:09.210797Z"
    },
    "jupyter": {
     "outputs_hidden": false
    },
    "papermill": {
     "duration": 0.029221,
     "end_time": "2024-05-29T08:50:09.215511",
     "exception": false,
     "start_time": "2024-05-29T08:50:09.186290",
     "status": "completed"
    },
    "tags": []
   },
   "outputs": [
    {
     "name": "stdout",
     "output_type": "stream",
     "text": [
      "<class 'pandas.core.frame.DataFrame'>\n",
      "RangeIndex: 1000 entries, 0 to 999\n",
      "Data columns (total 9 columns):\n",
      " #   Column            Non-Null Count  Dtype         \n",
      "---  ------            --------------  -----         \n",
      " 0   Transaction_ID    1000 non-null   int64         \n",
      " 1   Date              1000 non-null   datetime64[ns]\n",
      " 2   Customer_ID       1000 non-null   object        \n",
      " 3   Gender            1000 non-null   object        \n",
      " 4   Age               1000 non-null   int64         \n",
      " 5   Product_Category  1000 non-null   object        \n",
      " 6   Quantity          1000 non-null   int64         \n",
      " 7   Price_per_Unit    1000 non-null   int64         \n",
      " 8   Total_Amount      1000 non-null   int64         \n",
      "dtypes: datetime64[ns](1), int64(5), object(3)\n",
      "memory usage: 70.4+ KB\n"
     ]
    }
   ],
   "source": [
    "df.info()"
   ]
  },
  {
   "cell_type": "code",
   "execution_count": 7,
   "id": "31a08b3f",
   "metadata": {
    "_cell_guid": "dae51ee9-85ff-4b0d-b5e3-d42ae490bee4",
    "_uuid": "b67d1336-7955-4a86-802f-b155f744e4c1",
    "collapsed": false,
    "execution": {
     "iopub.execute_input": "2024-05-29T08:50:09.242109Z",
     "iopub.status.busy": "2024-05-29T08:50:09.241706Z",
     "iopub.status.idle": "2024-05-29T08:50:09.251260Z",
     "shell.execute_reply": "2024-05-29T08:50:09.250040Z"
    },
    "jupyter": {
     "outputs_hidden": false
    },
    "papermill": {
     "duration": 0.025255,
     "end_time": "2024-05-29T08:50:09.253702",
     "exception": false,
     "start_time": "2024-05-29T08:50:09.228447",
     "status": "completed"
    },
    "tags": []
   },
   "outputs": [
    {
     "data": {
      "text/plain": [
       "Transaction_ID      0\n",
       "Date                0\n",
       "Customer_ID         0\n",
       "Gender              0\n",
       "Age                 0\n",
       "Product_Category    0\n",
       "Quantity            0\n",
       "Price_per_Unit      0\n",
       "Total_Amount        0\n",
       "dtype: int64"
      ]
     },
     "execution_count": 7,
     "metadata": {},
     "output_type": "execute_result"
    }
   ],
   "source": [
    "# Check for missing values\n",
    "df.isnull().sum()  # There are No missing values"
   ]
  },
  {
   "cell_type": "code",
   "execution_count": 8,
   "id": "30d09db4",
   "metadata": {
    "_cell_guid": "261e6402-0675-4deb-af93-4715a9a184c3",
    "_uuid": "e0a86dc1-1b41-47c3-9fb1-206342da3c54",
    "collapsed": false,
    "execution": {
     "iopub.execute_input": "2024-05-29T08:50:09.280797Z",
     "iopub.status.busy": "2024-05-29T08:50:09.279584Z",
     "iopub.status.idle": "2024-05-29T08:50:09.293215Z",
     "shell.execute_reply": "2024-05-29T08:50:09.292011Z"
    },
    "jupyter": {
     "outputs_hidden": false
    },
    "papermill": {
     "duration": 0.030266,
     "end_time": "2024-05-29T08:50:09.295909",
     "exception": false,
     "start_time": "2024-05-29T08:50:09.265643",
     "status": "completed"
    },
    "tags": []
   },
   "outputs": [
    {
     "data": {
      "text/plain": [
       "Transaction_ID      1000\n",
       "Date                 345\n",
       "Customer_ID         1000\n",
       "Gender                 2\n",
       "Age                   47\n",
       "Product_Category       3\n",
       "Quantity               4\n",
       "Price_per_Unit         5\n",
       "Total_Amount          18\n",
       "dtype: int64"
      ]
     },
     "execution_count": 8,
     "metadata": {},
     "output_type": "execute_result"
    }
   ],
   "source": [
    "# Check for unique values in all columns\n",
    "df.nunique()"
   ]
  },
  {
   "cell_type": "markdown",
   "id": "85b868e8",
   "metadata": {
    "_cell_guid": "29631f4c-4cec-4a13-92cc-bb7fe25e26f1",
    "_uuid": "354d8816-a57a-422a-bb49-fd3149ed9800",
    "papermill": {
     "duration": 0.011814,
     "end_time": "2024-05-29T08:50:09.319853",
     "exception": false,
     "start_time": "2024-05-29T08:50:09.308039",
     "status": "completed"
    },
    "tags": []
   },
   "source": [
    "From the output above:\n",
    "* There are 1000 distinct Transaction IDs and 1000 distinct Customers (Customer ID)s\n",
    "* Since there are only 345 unique dates, some customers likely made purchases on the same dates\n",
    "* The Product categories are only *Beauty*, *Clothing* and *Electronics*"
   ]
  },
  {
   "cell_type": "code",
   "execution_count": 9,
   "id": "450b33af",
   "metadata": {
    "_cell_guid": "260e8f34-230b-4358-881a-bd62082b8093",
    "_uuid": "72da24ae-883a-4097-a5f1-b5009b6f4c6f",
    "collapsed": false,
    "execution": {
     "iopub.execute_input": "2024-05-29T08:50:09.346223Z",
     "iopub.status.busy": "2024-05-29T08:50:09.345831Z",
     "iopub.status.idle": "2024-05-29T08:50:09.381309Z",
     "shell.execute_reply": "2024-05-29T08:50:09.380431Z"
    },
    "jupyter": {
     "outputs_hidden": false
    },
    "papermill": {
     "duration": 0.051519,
     "end_time": "2024-05-29T08:50:09.383672",
     "exception": false,
     "start_time": "2024-05-29T08:50:09.332153",
     "status": "completed"
    },
    "tags": []
   },
   "outputs": [
    {
     "data": {
      "text/html": [
       "<div>\n",
       "<style scoped>\n",
       "    .dataframe tbody tr th:only-of-type {\n",
       "        vertical-align: middle;\n",
       "    }\n",
       "\n",
       "    .dataframe tbody tr th {\n",
       "        vertical-align: top;\n",
       "    }\n",
       "\n",
       "    .dataframe thead th {\n",
       "        text-align: right;\n",
       "    }\n",
       "</style>\n",
       "<table border=\"1\" class=\"dataframe\">\n",
       "  <thead>\n",
       "    <tr style=\"text-align: right;\">\n",
       "      <th></th>\n",
       "      <th>Transaction_ID</th>\n",
       "      <th>Date</th>\n",
       "      <th>Age</th>\n",
       "      <th>Quantity</th>\n",
       "      <th>Price_per_Unit</th>\n",
       "      <th>Total_Amount</th>\n",
       "    </tr>\n",
       "  </thead>\n",
       "  <tbody>\n",
       "    <tr>\n",
       "      <th>count</th>\n",
       "      <td>1000.000000</td>\n",
       "      <td>1000</td>\n",
       "      <td>1000.00000</td>\n",
       "      <td>1000.000000</td>\n",
       "      <td>1000.000000</td>\n",
       "      <td>1000.000000</td>\n",
       "    </tr>\n",
       "    <tr>\n",
       "      <th>mean</th>\n",
       "      <td>500.500000</td>\n",
       "      <td>2023-07-03 00:25:55.200000256</td>\n",
       "      <td>41.39200</td>\n",
       "      <td>2.514000</td>\n",
       "      <td>179.890000</td>\n",
       "      <td>456.000000</td>\n",
       "    </tr>\n",
       "    <tr>\n",
       "      <th>min</th>\n",
       "      <td>1.000000</td>\n",
       "      <td>2023-01-01 00:00:00</td>\n",
       "      <td>18.00000</td>\n",
       "      <td>1.000000</td>\n",
       "      <td>25.000000</td>\n",
       "      <td>25.000000</td>\n",
       "    </tr>\n",
       "    <tr>\n",
       "      <th>25%</th>\n",
       "      <td>250.750000</td>\n",
       "      <td>2023-04-08 00:00:00</td>\n",
       "      <td>29.00000</td>\n",
       "      <td>1.000000</td>\n",
       "      <td>30.000000</td>\n",
       "      <td>60.000000</td>\n",
       "    </tr>\n",
       "    <tr>\n",
       "      <th>50%</th>\n",
       "      <td>500.500000</td>\n",
       "      <td>2023-06-29 12:00:00</td>\n",
       "      <td>42.00000</td>\n",
       "      <td>3.000000</td>\n",
       "      <td>50.000000</td>\n",
       "      <td>135.000000</td>\n",
       "    </tr>\n",
       "    <tr>\n",
       "      <th>75%</th>\n",
       "      <td>750.250000</td>\n",
       "      <td>2023-10-04 00:00:00</td>\n",
       "      <td>53.00000</td>\n",
       "      <td>4.000000</td>\n",
       "      <td>300.000000</td>\n",
       "      <td>900.000000</td>\n",
       "    </tr>\n",
       "    <tr>\n",
       "      <th>max</th>\n",
       "      <td>1000.000000</td>\n",
       "      <td>2024-01-01 00:00:00</td>\n",
       "      <td>64.00000</td>\n",
       "      <td>4.000000</td>\n",
       "      <td>500.000000</td>\n",
       "      <td>2000.000000</td>\n",
       "    </tr>\n",
       "    <tr>\n",
       "      <th>std</th>\n",
       "      <td>288.819436</td>\n",
       "      <td>NaN</td>\n",
       "      <td>13.68143</td>\n",
       "      <td>1.132734</td>\n",
       "      <td>189.681356</td>\n",
       "      <td>559.997632</td>\n",
       "    </tr>\n",
       "  </tbody>\n",
       "</table>\n",
       "</div>"
      ],
      "text/plain": [
       "       Transaction_ID                           Date         Age     Quantity  \\\n",
       "count     1000.000000                           1000  1000.00000  1000.000000   \n",
       "mean       500.500000  2023-07-03 00:25:55.200000256    41.39200     2.514000   \n",
       "min          1.000000            2023-01-01 00:00:00    18.00000     1.000000   \n",
       "25%        250.750000            2023-04-08 00:00:00    29.00000     1.000000   \n",
       "50%        500.500000            2023-06-29 12:00:00    42.00000     3.000000   \n",
       "75%        750.250000            2023-10-04 00:00:00    53.00000     4.000000   \n",
       "max       1000.000000            2024-01-01 00:00:00    64.00000     4.000000   \n",
       "std        288.819436                            NaN    13.68143     1.132734   \n",
       "\n",
       "       Price_per_Unit  Total_Amount  \n",
       "count     1000.000000   1000.000000  \n",
       "mean       179.890000    456.000000  \n",
       "min         25.000000     25.000000  \n",
       "25%         30.000000     60.000000  \n",
       "50%         50.000000    135.000000  \n",
       "75%        300.000000    900.000000  \n",
       "max        500.000000   2000.000000  \n",
       "std        189.681356    559.997632  "
      ]
     },
     "execution_count": 9,
     "metadata": {},
     "output_type": "execute_result"
    }
   ],
   "source": [
    "df.describe() # descriptive statistics"
   ]
  },
  {
   "cell_type": "markdown",
   "id": "fd4c4ec1",
   "metadata": {
    "_cell_guid": "5cea59a0-6341-4022-899e-3779fcab1aba",
    "_uuid": "470a8b59-4587-4e8a-87e0-018d1d6158b4",
    "papermill": {
     "duration": 0.012115,
     "end_time": "2024-05-29T08:50:09.408145",
     "exception": false,
     "start_time": "2024-05-29T08:50:09.396030",
     "status": "completed"
    },
    "tags": []
   },
   "source": [
    "# Connect to a Database and convert the Cleaned Dataframe to a Table"
   ]
  },
  {
   "cell_type": "code",
   "execution_count": 10,
   "id": "3fc46a9d",
   "metadata": {
    "_cell_guid": "ecf39417-fd2f-46ab-829d-3176dad7c88a",
    "_uuid": "ef12b1ab-b797-40c1-a7fa-a9dafdd8325e",
    "collapsed": false,
    "execution": {
     "iopub.execute_input": "2024-05-29T08:50:09.434624Z",
     "iopub.status.busy": "2024-05-29T08:50:09.434276Z",
     "iopub.status.idle": "2024-05-29T08:50:09.438296Z",
     "shell.execute_reply": "2024-05-29T08:50:09.437470Z"
    },
    "jupyter": {
     "outputs_hidden": false
    },
    "papermill": {
     "duration": 0.01987,
     "end_time": "2024-05-29T08:50:09.440475",
     "exception": false,
     "start_time": "2024-05-29T08:50:09.420605",
     "status": "completed"
    },
    "tags": []
   },
   "outputs": [],
   "source": [
    "# Connect to the database\n",
    "conn = sqlite3.connect('retail_data.db')"
   ]
  },
  {
   "cell_type": "code",
   "execution_count": 11,
   "id": "747f2ee9",
   "metadata": {
    "_cell_guid": "79e27d09-2ff6-44f3-abe3-b6042e4fc8b3",
    "_uuid": "86a065eb-15a5-4d28-8b09-de3db8e0171d",
    "collapsed": false,
    "execution": {
     "iopub.execute_input": "2024-05-29T08:50:09.467940Z",
     "iopub.status.busy": "2024-05-29T08:50:09.467311Z",
     "iopub.status.idle": "2024-05-29T08:50:09.513938Z",
     "shell.execute_reply": "2024-05-29T08:50:09.513017Z"
    },
    "jupyter": {
     "outputs_hidden": false
    },
    "papermill": {
     "duration": 0.063303,
     "end_time": "2024-05-29T08:50:09.516639",
     "exception": false,
     "start_time": "2024-05-29T08:50:09.453336",
     "status": "completed"
    },
    "tags": []
   },
   "outputs": [
    {
     "name": "stdout",
     "output_type": "stream",
     "text": [
      "Table 'retail' created and data loaded successfully.\n"
     ]
    }
   ],
   "source": [
    "# Create 'retail' table\n",
    "cursor = conn.cursor()\n",
    "cursor.execute(\"SELECT name FROM sqlite_master WHERE type='table' AND name='retail'\")\n",
    "table_exists = len(cursor.fetchall()) > 0\n",
    "\n",
    "if not table_exists:\n",
    "  # Load data to 'retail' table only if it doesn't exist\n",
    "  df.to_sql('retail', conn, index=False)\n",
    "  print(\"Table 'retail' created and data loaded successfully.\")\n",
    "else:\n",
    "  print(\"Table 'retail' already exists. Skipping data loading.\")"
   ]
  },
  {
   "cell_type": "code",
   "execution_count": 12,
   "id": "c67e9f61",
   "metadata": {
    "_cell_guid": "76814756-e418-4018-9d26-1387cca84292",
    "_uuid": "4c104d3f-22f2-4e38-8cce-2e37018321ec",
    "collapsed": false,
    "execution": {
     "iopub.execute_input": "2024-05-29T08:50:09.544064Z",
     "iopub.status.busy": "2024-05-29T08:50:09.543431Z",
     "iopub.status.idle": "2024-05-29T08:50:09.560702Z",
     "shell.execute_reply": "2024-05-29T08:50:09.559575Z"
    },
    "jupyter": {
     "outputs_hidden": false
    },
    "papermill": {
     "duration": 0.033972,
     "end_time": "2024-05-29T08:50:09.563074",
     "exception": false,
     "start_time": "2024-05-29T08:50:09.529102",
     "status": "completed"
    },
    "tags": []
   },
   "outputs": [
    {
     "data": {
      "text/html": [
       "<div>\n",
       "<style scoped>\n",
       "    .dataframe tbody tr th:only-of-type {\n",
       "        vertical-align: middle;\n",
       "    }\n",
       "\n",
       "    .dataframe tbody tr th {\n",
       "        vertical-align: top;\n",
       "    }\n",
       "\n",
       "    .dataframe thead th {\n",
       "        text-align: right;\n",
       "    }\n",
       "</style>\n",
       "<table border=\"1\" class=\"dataframe\">\n",
       "  <thead>\n",
       "    <tr style=\"text-align: right;\">\n",
       "      <th></th>\n",
       "      <th>Transaction_ID</th>\n",
       "      <th>Date</th>\n",
       "      <th>Customer_ID</th>\n",
       "      <th>Gender</th>\n",
       "      <th>Age</th>\n",
       "      <th>Product_Category</th>\n",
       "      <th>Quantity</th>\n",
       "      <th>Price_per_Unit</th>\n",
       "      <th>Total_Amount</th>\n",
       "    </tr>\n",
       "  </thead>\n",
       "  <tbody>\n",
       "    <tr>\n",
       "      <th>0</th>\n",
       "      <td>1</td>\n",
       "      <td>2023-11-24 00:00:00</td>\n",
       "      <td>CUST001</td>\n",
       "      <td>Male</td>\n",
       "      <td>34</td>\n",
       "      <td>Beauty</td>\n",
       "      <td>3</td>\n",
       "      <td>50</td>\n",
       "      <td>150</td>\n",
       "    </tr>\n",
       "    <tr>\n",
       "      <th>1</th>\n",
       "      <td>2</td>\n",
       "      <td>2023-02-27 00:00:00</td>\n",
       "      <td>CUST002</td>\n",
       "      <td>Female</td>\n",
       "      <td>26</td>\n",
       "      <td>Clothing</td>\n",
       "      <td>2</td>\n",
       "      <td>500</td>\n",
       "      <td>1000</td>\n",
       "    </tr>\n",
       "    <tr>\n",
       "      <th>2</th>\n",
       "      <td>3</td>\n",
       "      <td>2023-01-13 00:00:00</td>\n",
       "      <td>CUST003</td>\n",
       "      <td>Male</td>\n",
       "      <td>50</td>\n",
       "      <td>Electronics</td>\n",
       "      <td>1</td>\n",
       "      <td>30</td>\n",
       "      <td>30</td>\n",
       "    </tr>\n",
       "    <tr>\n",
       "      <th>3</th>\n",
       "      <td>4</td>\n",
       "      <td>2023-05-21 00:00:00</td>\n",
       "      <td>CUST004</td>\n",
       "      <td>Male</td>\n",
       "      <td>37</td>\n",
       "      <td>Clothing</td>\n",
       "      <td>1</td>\n",
       "      <td>500</td>\n",
       "      <td>500</td>\n",
       "    </tr>\n",
       "    <tr>\n",
       "      <th>4</th>\n",
       "      <td>5</td>\n",
       "      <td>2023-05-06 00:00:00</td>\n",
       "      <td>CUST005</td>\n",
       "      <td>Male</td>\n",
       "      <td>30</td>\n",
       "      <td>Beauty</td>\n",
       "      <td>2</td>\n",
       "      <td>50</td>\n",
       "      <td>100</td>\n",
       "    </tr>\n",
       "    <tr>\n",
       "      <th>5</th>\n",
       "      <td>6</td>\n",
       "      <td>2023-04-25 00:00:00</td>\n",
       "      <td>CUST006</td>\n",
       "      <td>Female</td>\n",
       "      <td>45</td>\n",
       "      <td>Beauty</td>\n",
       "      <td>1</td>\n",
       "      <td>30</td>\n",
       "      <td>30</td>\n",
       "    </tr>\n",
       "    <tr>\n",
       "      <th>6</th>\n",
       "      <td>7</td>\n",
       "      <td>2023-03-13 00:00:00</td>\n",
       "      <td>CUST007</td>\n",
       "      <td>Male</td>\n",
       "      <td>46</td>\n",
       "      <td>Clothing</td>\n",
       "      <td>2</td>\n",
       "      <td>25</td>\n",
       "      <td>50</td>\n",
       "    </tr>\n",
       "    <tr>\n",
       "      <th>7</th>\n",
       "      <td>8</td>\n",
       "      <td>2023-02-22 00:00:00</td>\n",
       "      <td>CUST008</td>\n",
       "      <td>Male</td>\n",
       "      <td>30</td>\n",
       "      <td>Electronics</td>\n",
       "      <td>4</td>\n",
       "      <td>25</td>\n",
       "      <td>100</td>\n",
       "    </tr>\n",
       "    <tr>\n",
       "      <th>8</th>\n",
       "      <td>9</td>\n",
       "      <td>2023-12-13 00:00:00</td>\n",
       "      <td>CUST009</td>\n",
       "      <td>Male</td>\n",
       "      <td>63</td>\n",
       "      <td>Electronics</td>\n",
       "      <td>2</td>\n",
       "      <td>300</td>\n",
       "      <td>600</td>\n",
       "    </tr>\n",
       "    <tr>\n",
       "      <th>9</th>\n",
       "      <td>10</td>\n",
       "      <td>2023-10-07 00:00:00</td>\n",
       "      <td>CUST010</td>\n",
       "      <td>Female</td>\n",
       "      <td>52</td>\n",
       "      <td>Clothing</td>\n",
       "      <td>4</td>\n",
       "      <td>50</td>\n",
       "      <td>200</td>\n",
       "    </tr>\n",
       "  </tbody>\n",
       "</table>\n",
       "</div>"
      ],
      "text/plain": [
       "   Transaction_ID                 Date Customer_ID  Gender  Age  \\\n",
       "0               1  2023-11-24 00:00:00     CUST001    Male   34   \n",
       "1               2  2023-02-27 00:00:00     CUST002  Female   26   \n",
       "2               3  2023-01-13 00:00:00     CUST003    Male   50   \n",
       "3               4  2023-05-21 00:00:00     CUST004    Male   37   \n",
       "4               5  2023-05-06 00:00:00     CUST005    Male   30   \n",
       "5               6  2023-04-25 00:00:00     CUST006  Female   45   \n",
       "6               7  2023-03-13 00:00:00     CUST007    Male   46   \n",
       "7               8  2023-02-22 00:00:00     CUST008    Male   30   \n",
       "8               9  2023-12-13 00:00:00     CUST009    Male   63   \n",
       "9              10  2023-10-07 00:00:00     CUST010  Female   52   \n",
       "\n",
       "  Product_Category  Quantity  Price_per_Unit  Total_Amount  \n",
       "0           Beauty         3              50           150  \n",
       "1         Clothing         2             500          1000  \n",
       "2      Electronics         1              30            30  \n",
       "3         Clothing         1             500           500  \n",
       "4           Beauty         2              50           100  \n",
       "5           Beauty         1              30            30  \n",
       "6         Clothing         2              25            50  \n",
       "7      Electronics         4              25           100  \n",
       "8      Electronics         2             300           600  \n",
       "9         Clothing         4              50           200  "
      ]
     },
     "execution_count": 12,
     "metadata": {},
     "output_type": "execute_result"
    }
   ],
   "source": [
    "# Now I will use SQL commands to perform analysis on the 'retail_sales' table\n",
    "# pd.read_sql_query is an optimized approach for working with pandas and sqlite3\n",
    "\n",
    "# Inspect the first_10_rows\n",
    "first_10_rows = pd.read_sql_query(\"\"\"SELECT *\n",
    "                                   FROM retail\n",
    "                                   LIMIT 10;\"\"\", conn)\n",
    "first_10_rows"
   ]
  },
  {
   "cell_type": "markdown",
   "id": "4c8e2cd8",
   "metadata": {
    "_cell_guid": "00d47e78-6edd-4a17-a3ae-a3406f2bbb9c",
    "_uuid": "7ea178cb-29f5-4e04-af74-4dcdcba51536",
    "papermill": {
     "duration": 0.012524,
     "end_time": "2024-05-29T08:50:09.588269",
     "exception": false,
     "start_time": "2024-05-29T08:50:09.575745",
     "status": "completed"
    },
    "tags": []
   },
   "source": [
    "# Analysis 1: Customer Age, Gender, and Purchasing Behaviour"
   ]
  },
  {
   "cell_type": "markdown",
   "id": "5d3567c6",
   "metadata": {
    "_cell_guid": "e420ccdc-5b8e-40e2-9792-50be956454a2",
    "_uuid": "6aa642bb-7845-42df-9015-214dff8d8051",
    "papermill": {
     "duration": 0.012689,
     "end_time": "2024-05-29T08:50:09.613945",
     "exception": false,
     "start_time": "2024-05-29T08:50:09.601256",
     "status": "completed"
    },
    "tags": []
   },
   "source": [
    "# Total spending for each combination of Age and Gender"
   ]
  },
  {
   "cell_type": "code",
   "execution_count": 13,
   "id": "3c2d11ce",
   "metadata": {
    "_cell_guid": "08bd0855-f18a-4f9e-9611-dc00ec46f592",
    "_uuid": "4e68af70-dbfa-4978-b406-9b2de69d1372",
    "collapsed": false,
    "execution": {
     "iopub.execute_input": "2024-05-29T08:50:09.642340Z",
     "iopub.status.busy": "2024-05-29T08:50:09.641342Z",
     "iopub.status.idle": "2024-05-29T08:50:09.671881Z",
     "shell.execute_reply": "2024-05-29T08:50:09.670753Z"
    },
    "jupyter": {
     "outputs_hidden": false
    },
    "papermill": {
     "duration": 0.047562,
     "end_time": "2024-05-29T08:50:09.674473",
     "exception": false,
     "start_time": "2024-05-29T08:50:09.626911",
     "status": "completed"
    },
    "tags": []
   },
   "outputs": [
    {
     "data": {
      "text/html": [
       "<div>\n",
       "<style scoped>\n",
       "    .dataframe tbody tr th:only-of-type {\n",
       "        vertical-align: middle;\n",
       "    }\n",
       "\n",
       "    .dataframe tbody tr th {\n",
       "        vertical-align: top;\n",
       "    }\n",
       "\n",
       "    .dataframe thead th {\n",
       "        text-align: right;\n",
       "    }\n",
       "</style>\n",
       "<table border=\"1\" class=\"dataframe\">\n",
       "  <thead>\n",
       "    <tr style=\"text-align: right;\">\n",
       "      <th>Gender</th>\n",
       "      <th>Female</th>\n",
       "      <th>Male</th>\n",
       "    </tr>\n",
       "    <tr>\n",
       "      <th>Age</th>\n",
       "      <th></th>\n",
       "      <th></th>\n",
       "    </tr>\n",
       "  </thead>\n",
       "  <tbody>\n",
       "    <tr>\n",
       "      <th>18</th>\n",
       "      <td>7940</td>\n",
       "      <td>3275</td>\n",
       "    </tr>\n",
       "    <tr>\n",
       "      <th>19</th>\n",
       "      <td>7335</td>\n",
       "      <td>7535</td>\n",
       "    </tr>\n",
       "    <tr>\n",
       "      <th>20</th>\n",
       "      <td>5175</td>\n",
       "      <td>3470</td>\n",
       "    </tr>\n",
       "    <tr>\n",
       "      <th>21</th>\n",
       "      <td>5400</td>\n",
       "      <td>7185</td>\n",
       "    </tr>\n",
       "    <tr>\n",
       "      <th>22</th>\n",
       "      <td>5425</td>\n",
       "      <td>8275</td>\n",
       "    </tr>\n",
       "    <tr>\n",
       "      <th>23</th>\n",
       "      <td>2895</td>\n",
       "      <td>5325</td>\n",
       "    </tr>\n",
       "    <tr>\n",
       "      <th>24</th>\n",
       "      <td>1750</td>\n",
       "      <td>3665</td>\n",
       "    </tr>\n",
       "    <tr>\n",
       "      <th>25</th>\n",
       "      <td>3550</td>\n",
       "      <td>6350</td>\n",
       "    </tr>\n",
       "    <tr>\n",
       "      <th>26</th>\n",
       "      <td>10375</td>\n",
       "      <td>3605</td>\n",
       "    </tr>\n",
       "    <tr>\n",
       "      <th>27</th>\n",
       "      <td>4280</td>\n",
       "      <td>5105</td>\n",
       "    </tr>\n",
       "    <tr>\n",
       "      <th>28</th>\n",
       "      <td>5400</td>\n",
       "      <td>3270</td>\n",
       "    </tr>\n",
       "    <tr>\n",
       "      <th>29</th>\n",
       "      <td>4000</td>\n",
       "      <td>2570</td>\n",
       "    </tr>\n",
       "    <tr>\n",
       "      <th>30</th>\n",
       "      <td>6285</td>\n",
       "      <td>3505</td>\n",
       "    </tr>\n",
       "    <tr>\n",
       "      <th>31</th>\n",
       "      <td>2020</td>\n",
       "      <td>8200</td>\n",
       "    </tr>\n",
       "    <tr>\n",
       "      <th>32</th>\n",
       "      <td>1850</td>\n",
       "      <td>3700</td>\n",
       "    </tr>\n",
       "    <tr>\n",
       "      <th>33</th>\n",
       "      <td>2040</td>\n",
       "      <td>4200</td>\n",
       "    </tr>\n",
       "    <tr>\n",
       "      <th>34</th>\n",
       "      <td>12050</td>\n",
       "      <td>4735</td>\n",
       "    </tr>\n",
       "    <tr>\n",
       "      <th>35</th>\n",
       "      <td>6815</td>\n",
       "      <td>4475</td>\n",
       "    </tr>\n",
       "    <tr>\n",
       "      <th>36</th>\n",
       "      <td>3080</td>\n",
       "      <td>6025</td>\n",
       "    </tr>\n",
       "    <tr>\n",
       "      <th>37</th>\n",
       "      <td>5730</td>\n",
       "      <td>5920</td>\n",
       "    </tr>\n",
       "    <tr>\n",
       "      <th>38</th>\n",
       "      <td>6020</td>\n",
       "      <td>5080</td>\n",
       "    </tr>\n",
       "    <tr>\n",
       "      <th>39</th>\n",
       "      <td>3355</td>\n",
       "      <td>1240</td>\n",
       "    </tr>\n",
       "    <tr>\n",
       "      <th>40</th>\n",
       "      <td>7630</td>\n",
       "      <td>1785</td>\n",
       "    </tr>\n",
       "    <tr>\n",
       "      <th>41</th>\n",
       "      <td>1195</td>\n",
       "      <td>4455</td>\n",
       "    </tr>\n",
       "    <tr>\n",
       "      <th>42</th>\n",
       "      <td>5290</td>\n",
       "      <td>3210</td>\n",
       "    </tr>\n",
       "    <tr>\n",
       "      <th>43</th>\n",
       "      <td>10260</td>\n",
       "      <td>7710</td>\n",
       "    </tr>\n",
       "    <tr>\n",
       "      <th>44</th>\n",
       "      <td>3590</td>\n",
       "      <td>3970</td>\n",
       "    </tr>\n",
       "    <tr>\n",
       "      <th>45</th>\n",
       "      <td>585</td>\n",
       "      <td>5740</td>\n",
       "    </tr>\n",
       "    <tr>\n",
       "      <th>46</th>\n",
       "      <td>5380</td>\n",
       "      <td>7710</td>\n",
       "    </tr>\n",
       "    <tr>\n",
       "      <th>47</th>\n",
       "      <td>6315</td>\n",
       "      <td>6190</td>\n",
       "    </tr>\n",
       "    <tr>\n",
       "      <th>48</th>\n",
       "      <td>5410</td>\n",
       "      <td>1830</td>\n",
       "    </tr>\n",
       "    <tr>\n",
       "      <th>49</th>\n",
       "      <td>2650</td>\n",
       "      <td>2460</td>\n",
       "    </tr>\n",
       "    <tr>\n",
       "      <th>50</th>\n",
       "      <td>4300</td>\n",
       "      <td>5545</td>\n",
       "    </tr>\n",
       "    <tr>\n",
       "      <th>51</th>\n",
       "      <td>7270</td>\n",
       "      <td>8795</td>\n",
       "    </tr>\n",
       "    <tr>\n",
       "      <th>52</th>\n",
       "      <td>4270</td>\n",
       "      <td>2770</td>\n",
       "    </tr>\n",
       "    <tr>\n",
       "      <th>53</th>\n",
       "      <td>4890</td>\n",
       "      <td>4620</td>\n",
       "    </tr>\n",
       "    <tr>\n",
       "      <th>54</th>\n",
       "      <td>5755</td>\n",
       "      <td>4750</td>\n",
       "    </tr>\n",
       "    <tr>\n",
       "      <th>55</th>\n",
       "      <td>7070</td>\n",
       "      <td>2710</td>\n",
       "    </tr>\n",
       "    <tr>\n",
       "      <th>56</th>\n",
       "      <td>6025</td>\n",
       "      <td>3415</td>\n",
       "    </tr>\n",
       "    <tr>\n",
       "      <th>57</th>\n",
       "      <td>3630</td>\n",
       "      <td>5660</td>\n",
       "    </tr>\n",
       "    <tr>\n",
       "      <th>58</th>\n",
       "      <td>3680</td>\n",
       "      <td>3715</td>\n",
       "    </tr>\n",
       "    <tr>\n",
       "      <th>59</th>\n",
       "      <td>3785</td>\n",
       "      <td>5685</td>\n",
       "    </tr>\n",
       "    <tr>\n",
       "      <th>60</th>\n",
       "      <td>7660</td>\n",
       "      <td>3930</td>\n",
       "    </tr>\n",
       "    <tr>\n",
       "      <th>61</th>\n",
       "      <td>2840</td>\n",
       "      <td>3890</td>\n",
       "    </tr>\n",
       "    <tr>\n",
       "      <th>62</th>\n",
       "      <td>3060</td>\n",
       "      <td>5060</td>\n",
       "    </tr>\n",
       "    <tr>\n",
       "      <th>63</th>\n",
       "      <td>1205</td>\n",
       "      <td>8045</td>\n",
       "    </tr>\n",
       "    <tr>\n",
       "      <th>64</th>\n",
       "      <td>6325</td>\n",
       "      <td>2800</td>\n",
       "    </tr>\n",
       "  </tbody>\n",
       "</table>\n",
       "</div>"
      ],
      "text/plain": [
       "Gender  Female  Male\n",
       "Age                 \n",
       "18        7940  3275\n",
       "19        7335  7535\n",
       "20        5175  3470\n",
       "21        5400  7185\n",
       "22        5425  8275\n",
       "23        2895  5325\n",
       "24        1750  3665\n",
       "25        3550  6350\n",
       "26       10375  3605\n",
       "27        4280  5105\n",
       "28        5400  3270\n",
       "29        4000  2570\n",
       "30        6285  3505\n",
       "31        2020  8200\n",
       "32        1850  3700\n",
       "33        2040  4200\n",
       "34       12050  4735\n",
       "35        6815  4475\n",
       "36        3080  6025\n",
       "37        5730  5920\n",
       "38        6020  5080\n",
       "39        3355  1240\n",
       "40        7630  1785\n",
       "41        1195  4455\n",
       "42        5290  3210\n",
       "43       10260  7710\n",
       "44        3590  3970\n",
       "45         585  5740\n",
       "46        5380  7710\n",
       "47        6315  6190\n",
       "48        5410  1830\n",
       "49        2650  2460\n",
       "50        4300  5545\n",
       "51        7270  8795\n",
       "52        4270  2770\n",
       "53        4890  4620\n",
       "54        5755  4750\n",
       "55        7070  2710\n",
       "56        6025  3415\n",
       "57        3630  5660\n",
       "58        3680  3715\n",
       "59        3785  5685\n",
       "60        7660  3930\n",
       "61        2840  3890\n",
       "62        3060  5060\n",
       "63        1205  8045\n",
       "64        6325  2800"
      ]
     },
     "execution_count": 13,
     "metadata": {},
     "output_type": "execute_result"
    }
   ],
   "source": [
    "# Group by Age and Gender, calculate Total Spending\n",
    "customer_purchase_behavior = pd.read_sql_query(\"\"\"\n",
    "SELECT Age, Gender, SUM(Total_Amount) AS Total_Spent_by_Age_Gender\n",
    "FROM retail\n",
    "GROUP BY Age, Gender\n",
    "ORDER BY Age, Gender;\n",
    "\"\"\", conn)\n",
    "\n",
    "# Use .pivot_table function to create a pivot table with separate columns for Female and Male\n",
    "gender_spending_pivot = customer_purchase_behavior.pivot_table(\n",
    "    values='Total_Spent_by_Age_Gender', index='Age', columns='Gender', aggfunc='sum')\n",
    "\n",
    "gender_spending_pivot"
   ]
  },
  {
   "cell_type": "markdown",
   "id": "db855328",
   "metadata": {
    "_cell_guid": "73146704-73de-43d8-b400-747c1d22cd82",
    "_uuid": "4300fc4b-2f60-476c-9ad3-df4df44aec69",
    "papermill": {
     "duration": 0.013027,
     "end_time": "2024-05-29T08:50:09.700775",
     "exception": false,
     "start_time": "2024-05-29T08:50:09.687748",
     "status": "completed"
    },
    "tags": []
   },
   "source": [
    "# Insights from Analysis 1\n",
    "\n",
    "Analysis 1 shows how Total spending varies with `Age` and `Gender`\n",
    "\n",
    "For example: For 20 year olds, Females collectively spent **more** than Males. The opposite is shown for 63 year olds, and so on.\n",
    "\n",
    "From the Barplot below, you see that **39 year olds** collectively spent the **least** while **43 year olds** spent the **most**"
   ]
  },
  {
   "cell_type": "markdown",
   "id": "68887902",
   "metadata": {
    "_cell_guid": "813e2425-d5d5-417d-9bb7-b896daadd27f",
    "_uuid": "de9aeb31-e815-45b4-8a8a-6eb87e28b04c",
    "papermill": {
     "duration": 0.013173,
     "end_time": "2024-05-29T08:50:09.727379",
     "exception": false,
     "start_time": "2024-05-29T08:50:09.714206",
     "status": "completed"
    },
    "tags": []
   },
   "source": [
    "# Barplot of Total Spending by Age and Gender"
   ]
  },
  {
   "cell_type": "code",
   "execution_count": 14,
   "id": "ab3ae92d",
   "metadata": {
    "_cell_guid": "910bf054-7af3-4b75-b899-a35a070692ce",
    "_uuid": "f94fc20e-7b1e-45b3-9595-aae953ab87f6",
    "collapsed": false,
    "execution": {
     "iopub.execute_input": "2024-05-29T08:50:09.756772Z",
     "iopub.status.busy": "2024-05-29T08:50:09.756371Z",
     "iopub.status.idle": "2024-05-29T08:50:10.654197Z",
     "shell.execute_reply": "2024-05-29T08:50:10.652970Z"
    },
    "jupyter": {
     "outputs_hidden": false
    },
    "papermill": {
     "duration": 0.9153,
     "end_time": "2024-05-29T08:50:10.656789",
     "exception": false,
     "start_time": "2024-05-29T08:50:09.741489",
     "status": "completed"
    },
    "tags": []
   },
   "outputs": [
    {
     "data": {
      "image/png": "[encoded data removed]",
      "text/plain": [
       "<Figure size 640x480 with 1 Axes>"
      ]
     },
     "metadata": {},
     "output_type": "display_data"
    }
   ],
   "source": [
    "# Stacked Barplot\n",
    "gender_spending_pivot.plot(kind='bar', stacked=True, color=['red', 'blue'])\n",
    "plt.title('Total Spending by Age and Gender')\n",
    "plt.ylabel('Total Spending')\n",
    "plt.xlabel('Age')\n",
    "plt.xticks(rotation=90)  # Rotate x-axis labels for better readability\n",
    "plt.legend(title='Gender')\n",
    "plt.show()"
   ]
  },
  {
   "cell_type": "markdown",
   "id": "e7eab8dd",
   "metadata": {
    "_cell_guid": "49b9f9e6-9277-4fda-89d5-808f596e1927",
    "_uuid": "e74f9c8e-6b53-44ba-a357-5ec03b39c13e",
    "papermill": {
     "duration": 0.014784,
     "end_time": "2024-05-29T08:50:10.685851",
     "exception": false,
     "start_time": "2024-05-29T08:50:10.671067",
     "status": "completed"
    },
    "tags": []
   },
   "source": [
    "# Analysis 2: Top Product Categories for each Age and Gender"
   ]
  },
  {
   "cell_type": "code",
   "execution_count": 15,
   "id": "747191d1",
   "metadata": {
    "_cell_guid": "45712d37-1163-4e0a-95e4-b7244055fc62",
    "_uuid": "68b15a47-de36-418c-9abd-876e84a27f5c",
    "collapsed": false,
    "execution": {
     "iopub.execute_input": "2024-05-29T08:50:10.717277Z",
     "iopub.status.busy": "2024-05-29T08:50:10.716816Z",
     "iopub.status.idle": "2024-05-29T08:50:10.756008Z",
     "shell.execute_reply": "2024-05-29T08:50:10.754777Z"
    },
    "jupyter": {
     "outputs_hidden": false
    },
    "papermill": {
     "duration": 0.058553,
     "end_time": "2024-05-29T08:50:10.758667",
     "exception": false,
     "start_time": "2024-05-29T08:50:10.700114",
     "status": "completed"
    },
    "tags": []
   },
   "outputs": [
    {
     "name": "stdout",
     "output_type": "stream",
     "text": [
      "Product_Category  Beauty  Clothing  Electronics\n",
      "Age Gender                                     \n",
      "18  Female        3195.0    2575.0       2170.0\n",
      "    Male          1765.0    1510.0          NaN\n",
      "19  Female        2225.0    1200.0       3910.0\n",
      "    Male          2140.0    1530.0       3865.0\n",
      "20  Female         365.0      80.0       4730.0\n",
      "    Male          2160.0     360.0        950.0\n",
      "21  Female        3300.0    1200.0        900.0\n",
      "    Male          4700.0    1885.0        600.0\n",
      "22  Female        1300.0    3275.0        850.0\n",
      "    Male          4230.0    2075.0       1970.0\n",
      "23  Female         475.0    1270.0       1150.0\n",
      "    Male           165.0    3050.0       2110.0\n",
      "24  Female        1575.0      25.0        150.0\n",
      "    Male          1310.0    2125.0        230.0\n",
      "25  Female        1000.0    2200.0        350.0\n",
      "    Male          1375.0    2150.0       2825.0\n",
      "26  Female        1715.0    6960.0       1700.0\n",
      "    Male             NaN    1775.0       1830.0\n",
      "27  Female        1300.0    2655.0        325.0\n",
      "    Male          3455.0    1550.0        100.0\n",
      "28  Female         300.0    2380.0       2720.0\n",
      "    Male           160.0    1820.0       1290.0\n",
      "29  Female        2900.0     400.0        700.0\n",
      "    Male           290.0    2100.0        180.0\n",
      "30  Female        3025.0     900.0       2360.0\n",
      "    Male          1285.0    1620.0        600.0\n",
      "31  Female         200.0    1500.0        320.0\n",
      "    Male           120.0    3450.0       4630.0\n",
      "32  Female         810.0     990.0         50.0\n",
      "    Male           950.0    2700.0         50.0\n",
      "33  Female         150.0     690.0       1200.0\n",
      "    Male          2100.0    2100.0          NaN\n",
      "34  Female        5350.0    1300.0       5400.0\n",
      "    Male          2055.0    2400.0        280.0\n",
      "35  Female        3000.0    1545.0       2270.0\n",
      "    Male          2075.0    1140.0       1260.0\n",
      "36  Female        1300.0    1310.0        470.0\n",
      "    Male          2025.0    1900.0       2100.0\n",
      "37  Female           NaN    3270.0       2460.0\n",
      "    Male          1620.0    2200.0       2100.0\n",
      "38  Female        2100.0     300.0       3620.0\n",
      "    Male          1200.0     790.0       3090.0\n",
      "39  Female        3100.0      75.0        180.0\n",
      "    Male           920.0     160.0        160.0\n",
      "40  Female        3700.0    2295.0       1635.0\n",
      "    Male            50.0    1135.0        600.0\n",
      "41  Female           NaN    1045.0        150.0\n",
      "    Male          1550.0    1340.0       1565.0\n",
      "42  Female        2380.0     730.0       2180.0\n",
      "    Male          1780.0     275.0       1155.0\n",
      "43  Female        2425.0    4175.0       3660.0\n",
      "    Male           120.0    2240.0       5350.0\n",
      "44  Female          75.0    2890.0        625.0\n",
      "    Male            30.0    2110.0       1830.0\n",
      "45  Female         190.0     310.0         85.0\n",
      "    Male          3840.0    1000.0        900.0\n",
      "46  Female        2410.0     550.0       2420.0\n",
      "    Male          6160.0      50.0       1500.0\n",
      "47  Female        2820.0    2545.0        950.0\n",
      "    Male          3120.0    2250.0        820.0\n",
      "48  Female        1860.0    3350.0        200.0\n",
      "    Male          1100.0     530.0        200.0\n",
      "49  Female         275.0    2200.0        175.0\n",
      "    Male           760.0    1000.0        700.0\n",
      "50  Female        1600.0     300.0       2400.0\n",
      "    Male           600.0     650.0       4295.0\n",
      "51  Female        2925.0     375.0       3970.0\n",
      "    Male          1650.0    3270.0       3875.0\n",
      "52  Female        1260.0    2710.0        300.0\n",
      "    Male           990.0     150.0       1630.0\n",
      "53  Female           NaN    4050.0        840.0\n",
      "    Male          1400.0    1060.0       2160.0\n",
      "54  Female        2710.0     245.0       2800.0\n",
      "    Male           280.0    2950.0       1520.0\n",
      "55  Female        1800.0     620.0       4650.0\n",
      "    Male          1000.0    1630.0         80.0\n",
      "56  Female        1635.0    1790.0       2600.0\n",
      "    Male           500.0    2100.0        815.0\n",
      "57  Female         425.0    2895.0        310.0\n",
      "    Male          3200.0     750.0       1710.0\n",
      "58  Female        2800.0     760.0        120.0\n",
      "    Male           990.0    1525.0       1200.0\n",
      "59  Female        2700.0     525.0        560.0\n",
      "    Male             NaN    3585.0       2100.0\n",
      "60  Female         490.0    3250.0       3920.0\n",
      "    Male            80.0     750.0       3100.0\n",
      "61  Female           NaN    2240.0        600.0\n",
      "    Male          1340.0     250.0       2300.0\n",
      "62  Female         920.0     440.0       1700.0\n",
      "    Male           305.0     175.0       4580.0\n",
      "63  Female         105.0     150.0        950.0\n",
      "    Male            50.0    2320.0       5675.0\n",
      "64  Female         640.0    4735.0        950.0\n",
      "    Male          1690.0     820.0        290.0\n"
     ]
    }
   ],
   "source": [
    "# Group by Age and Gender, Product category (PC)\n",
    "top_product_category = pd.read_sql_query(\"\"\"\n",
    "SELECT Age, Gender, Product_Category, SUM(Total_Amount) AS Total_Spent_by_Age_Gender_PC  \n",
    "FROM retail\n",
    "GROUP BY Age, Gender, Product_Category\n",
    "ORDER BY Age, Gender, Product_Category;\n",
    "\"\"\", conn)\n",
    "\n",
    "top_product_pivot= top_product_category.pivot_table(values= 'Total_Spent_by_Age_Gender_PC', index= ['Age','Gender']\n",
    "                                                    , columns= 'Product_Category', aggfunc= 'sum')\n",
    "\n",
    "print(top_product_pivot.to_string())"
   ]
  },
  {
   "cell_type": "markdown",
   "id": "7fa10d2e",
   "metadata": {
    "_cell_guid": "17f2e9a4-5d72-4a0b-8c33-e5fcb0b87ea0",
    "_uuid": "9e09ea22-3c3d-4c87-ba81-be910059fa30",
    "papermill": {
     "duration": 0.014065,
     "end_time": "2024-05-29T08:50:10.787180",
     "exception": false,
     "start_time": "2024-05-29T08:50:10.773115",
     "status": "completed"
    },
    "tags": []
   },
   "source": [
    "# Insights from Analysis 2\n",
    "\n",
    "Analysis 2 helps to identify **Trends in Customer Spending behaviour** based on `Age`, `Gender`, and `Product Category`\n",
    "\n",
    "The insights:\n",
    "\n",
    "* Age Preferences: Spending habits change with Age for certain Product Categories\n",
    "* Gender Differences: There are significant differences in spending patterns between Genders for specific Product Categories\n",
    "\n",
    "For a larger Real-life dataset, using such analysis can help to refine the **Target Audience for Marketing Campaigns**. Specific Age groups and Genders have a higher propensity to spend on certain Product Categories"
   ]
  },
  {
   "cell_type": "markdown",
   "id": "a2d6af7b",
   "metadata": {
    "_cell_guid": "e7122b69-279f-48b5-9b38-af8103879dc2",
    "_uuid": "0be428ab-166d-4f17-b881-6f9f2e501616",
    "papermill": {
     "duration": 0.015966,
     "end_time": "2024-05-29T08:50:10.817849",
     "exception": false,
     "start_time": "2024-05-29T08:50:10.801883",
     "status": "completed"
    },
    "tags": []
   },
   "source": [
    "# Analysis 3: Customer Purchases by Quantity\n",
    "\n",
    "Customer Purchases by Quantity is grouped by ***Age***, ***Gender***, and ***Product Category***"
   ]
  },
  {
   "cell_type": "code",
   "execution_count": 16,
   "id": "0788ebbc",
   "metadata": {
    "_cell_guid": "90c677bc-7276-4660-b4e9-13c6131f5baa",
    "_uuid": "d1c8ce7c-113d-4e3d-a9cb-b194dcaf3d65",
    "collapsed": false,
    "execution": {
     "iopub.execute_input": "2024-05-29T08:50:10.857378Z",
     "iopub.status.busy": "2024-05-29T08:50:10.856300Z",
     "iopub.status.idle": "2024-05-29T08:50:10.894696Z",
     "shell.execute_reply": "2024-05-29T08:50:10.893091Z"
    },
    "jupyter": {
     "outputs_hidden": false
    },
    "papermill": {
     "duration": 0.064035,
     "end_time": "2024-05-29T08:50:10.899752",
     "exception": false,
     "start_time": "2024-05-29T08:50:10.835717",
     "status": "completed"
    },
    "tags": []
   },
   "outputs": [
    {
     "name": "stdout",
     "output_type": "stream",
     "text": [
      "Product_Category  Beauty  Clothing  Electronics\n",
      "Age Gender                                     \n",
      "18  Female           3.0       3.0          1.0\n",
      "    Male             2.0       2.0          NaN\n",
      "19  Female           1.0       4.0          2.0\n",
      "    Male             3.0       3.0          2.0\n",
      "20  Female           1.0       1.0          4.0\n",
      "    Male             2.0       2.0          3.0\n",
      "21  Female           2.0       4.0          3.0\n",
      "    Male             4.0       3.0          2.0\n",
      "22  Female           4.0       1.0          2.0\n",
      "    Male             4.0       3.0          3.0\n",
      "23  Female           1.0       1.0          2.0\n",
      "    Male             2.0       2.0          1.0\n",
      "24  Female           3.0       1.0          4.0\n",
      "    Male             2.0       1.0          1.0\n",
      "25  Female           4.0       2.0          1.0\n",
      "    Male             1.0       4.0          1.0\n",
      "26  Female           1.0       2.0          2.0\n",
      "    Male             NaN       4.0          3.0\n",
      "27  Female           3.0       4.0          1.0\n",
      "    Male             3.0       3.0          4.0\n",
      "28  Female           2.0       3.0          2.0\n",
      "    Male             2.0       4.0          3.0\n",
      "29  Female           4.0       2.0          4.0\n",
      "    Male             4.0       1.0          3.0\n",
      "30  Female           2.0       3.0          4.0\n",
      "    Male             2.0       4.0          4.0\n",
      "31  Female           4.0       3.0          4.0\n",
      "    Male             4.0       3.0          4.0\n",
      "32  Female           4.0       2.0          1.0\n",
      "    Male             2.0       2.0          2.0\n",
      "33  Female           3.0       2.0          4.0\n",
      "    Male             4.0       4.0          NaN\n",
      "34  Female           2.0       4.0          4.0\n",
      "    Male             3.0       2.0          2.0\n",
      "35  Female           4.0       4.0          4.0\n",
      "    Male             3.0       3.0          4.0\n",
      "36  Female           1.0       4.0          4.0\n",
      "    Male             4.0       4.0          2.0\n",
      "37  Female           NaN       1.0          2.0\n",
      "    Male             4.0       1.0          4.0\n",
      "38  Female           2.0       1.0          3.0\n",
      "    Male             4.0       4.0          1.0\n",
      "39  Female           3.0       3.0          4.0\n",
      "    Male             1.0       2.0          2.0\n",
      "40  Female           3.0       1.0          2.0\n",
      "    Male             1.0       2.0          1.0\n",
      "41  Female           NaN       2.0          2.0\n",
      "    Male             2.0       3.0          1.0\n",
      "42  Female           2.0       4.0          4.0\n",
      "    Male             3.0       4.0          4.0\n",
      "43  Female           1.0       1.0          3.0\n",
      "    Male             4.0       2.0          4.0\n",
      "44  Female           3.0       2.0          2.0\n",
      "    Male             1.0       4.0          4.0\n",
      "45  Female           1.0       1.0          1.0\n",
      "    Male             1.0       2.0          3.0\n",
      "46  Female           3.0       1.0          4.0\n",
      "    Male             2.0       2.0          2.0\n",
      "47  Female           2.0       2.0          2.0\n",
      "    Male             3.0       3.0          4.0\n",
      "48  Female           4.0       1.0          2.0\n",
      "    Male             4.0       2.0          1.0\n",
      "49  Female           4.0       1.0          4.0\n",
      "    Male             2.0       4.0          1.0\n",
      "50  Female           1.0       4.0          2.0\n",
      "    Male             1.0       1.0          1.0\n",
      "51  Female           4.0       3.0          1.0\n",
      "    Male             3.0       3.0          4.0\n",
      "52  Female           3.0       4.0          3.0\n",
      "    Male             3.0       1.0          4.0\n",
      "53  Female           NaN       4.0          3.0\n",
      "    Male             4.0       1.0          2.0\n",
      "54  Female           3.0       1.0          2.0\n",
      "    Male             1.0       4.0          3.0\n",
      "55  Female           2.0       1.0          1.0\n",
      "    Male             3.0       4.0          2.0\n",
      "56  Female           3.0       3.0          2.0\n",
      "    Male             1.0       1.0          1.0\n",
      "57  Female           4.0       1.0          1.0\n",
      "    Male             2.0       2.0          2.0\n",
      "58  Female           3.0       2.0          4.0\n",
      "    Male             3.0       3.0          4.0\n",
      "59  Female           3.0       1.0          2.0\n",
      "    Male             NaN       2.0          4.0\n",
      "60  Female           3.0       3.0          2.0\n",
      "    Male             1.0       2.0          4.0\n",
      "61  Female           NaN       1.0          2.0\n",
      "    Male             4.0       1.0          2.0\n",
      "62  Female           4.0       2.0          2.0\n",
      "    Male             4.0       1.0          4.0\n",
      "63  Female           1.0       3.0          2.0\n",
      "    Male             1.0       4.0          2.0\n",
      "64  Female           1.0       2.0          4.0\n",
      "    Male             2.0       4.0          4.0\n"
     ]
    }
   ],
   "source": [
    "# Group by Age, Gender and Product Category \n",
    "customer_purchase_by_quantity = pd.read_sql_query(\"\"\"\n",
    "SELECT Age, Gender, Product_Category, Quantity\n",
    "FROM retail\n",
    "GROUP BY Age, Gender, Product_Category\n",
    "ORDER BY Age, Gender, Product_Category;\n",
    "\"\"\", conn)\n",
    "\n",
    "quantity_pivot = customer_purchase_by_quantity.pivot_table(values= 'Quantity', index= ['Age','Gender'], \n",
    "                                                           columns= 'Product_Category', aggfunc= 'sum')\n",
    "\n",
    "print(quantity_pivot.to_string())"
   ]
  },
  {
   "cell_type": "markdown",
   "id": "fc215017",
   "metadata": {
    "_cell_guid": "c659f50a-22ff-405d-90f6-8d72c5b6ae75",
    "_uuid": "9c59234e-8788-4121-b3db-153d4b4e6177",
    "papermill": {
     "duration": 0.015136,
     "end_time": "2024-05-29T08:50:10.931321",
     "exception": false,
     "start_time": "2024-05-29T08:50:10.916185",
     "status": "completed"
    },
    "tags": []
   },
   "source": [
    "# Insights from Analysis 3\n",
    "\n",
    "Analysis 3 can help answer these questions:\n",
    "\n",
    "* Purchase Patterns by Age and Gender: For example, are there any Age groups or Genders that consistently purchase more of a  particular Product category?\n",
    "* Popular Product Categories: You can identify which Product Categories are generally purchased the most across different Age and Gender groups.\n",
    "* Variations in Purchases: You can see if there are any significant variations in purchase quantities for the same Product Category across different Age and Gender groups. For instance, does the purchase of Electronics increase or decrease with Age for a particular Gender?\n",
    "\n",
    "**Actionable insights**:\n",
    "\n",
    "Imagine the analysis reveals that young females (18-24) consistently purchase more beauty products than other demographics *(this is an example)*. This can inform several decisions:\n",
    "\n",
    "* Inventory: The store can stock a wider variety of beauty products and maintain higher inventory levels for this category.\n",
    "* Promotions: They can run targeted promotions or offer loyalty rewards for beauty product purchases.\n",
    "* Store Layout: Beauty products could be placed in a prominent location on the first floor, readily accessible to young female customers.\n",
    "\n",
    "By leveraging the insights from purchase quantity analysis, retail companies can make data-driven decisions that **Optimize Inventory management**, **Product Development**, **Marketing strategies**, and ultimately, increase sales and customer satisfaction."
   ]
  },
  {
   "cell_type": "markdown",
   "id": "1da574aa",
   "metadata": {
    "_cell_guid": "a371ee27-d1ca-4cf1-898d-38528d3b6d60",
    "_uuid": "c6321f25-843c-471d-8429-d917eeb459a3",
    "papermill": {
     "duration": 0.014294,
     "end_time": "2024-05-29T08:50:10.960058",
     "exception": false,
     "start_time": "2024-05-29T08:50:10.945764",
     "status": "completed"
    },
    "tags": []
   },
   "source": [
    "# Analysis 4: Price per Unit Comparison by Product Category"
   ]
  },
  {
   "cell_type": "code",
   "execution_count": 17,
   "id": "6efe336e",
   "metadata": {
    "_cell_guid": "25c4bbd8-8e8f-4ceb-a754-42141d474812",
    "_uuid": "04c41bf2-2b8c-40eb-b5dc-b75afdc1b507",
    "collapsed": false,
    "execution": {
     "iopub.execute_input": "2024-05-29T08:50:10.992860Z",
     "iopub.status.busy": "2024-05-29T08:50:10.992491Z",
     "iopub.status.idle": "2024-05-29T08:50:11.008861Z",
     "shell.execute_reply": "2024-05-29T08:50:11.007558Z"
    },
    "jupyter": {
     "outputs_hidden": false
    },
    "papermill": {
     "duration": 0.041336,
     "end_time": "2024-05-29T08:50:11.016433",
     "exception": false,
     "start_time": "2024-05-29T08:50:10.975097",
     "status": "completed"
    },
    "tags": []
   },
   "outputs": [
    {
     "name": "stdout",
     "output_type": "stream",
     "text": [
      "Product_Category  Average_Price\n",
      "          Beauty         184.06\n",
      "        Clothing         174.29\n",
      "     Electronics         181.90\n",
      "\n",
      "Product_Category  Min_Price  Max_Price\n",
      "          Beauty         25        500\n",
      "        Clothing         25        500\n",
      "     Electronics         25        500\n"
     ]
    }
   ],
   "source": [
    "# Average price per category\n",
    "average_price_per_category = pd.read_sql_query(\"\"\"\n",
    "SELECT Product_Category, AVG(Price_per_Unit) AS Average_Price\n",
    "FROM retail\n",
    "GROUP BY Product_Category;\"\"\",conn)\n",
    "\n",
    "# Round the 'Average_Price' column to 2 decimals\n",
    "average_price_per_category['Average_Price'] = average_price_per_category['Average_Price'].round(2)\n",
    "\n",
    "print(average_price_per_category.to_string(index=False))\n",
    "print() # leave empty line\n",
    "\n",
    "# Price range per Product Category\n",
    "price_range_per_category = pd.read_sql_query(\"\"\"\n",
    "SELECT Product_Category, MIN(Price_per_Unit) AS Min_Price, MAX(Price_per_Unit) AS Max_Price\n",
    "FROM retail\n",
    "GROUP BY Product_Category;\"\"\",conn)\n",
    "\n",
    "print(price_range_per_category.to_string(index=False))"
   ]
  },
  {
   "cell_type": "markdown",
   "id": "06a041ac",
   "metadata": {
    "_cell_guid": "e8a795ff-7ac8-46a8-8283-14b03ebec331",
    "_uuid": "8e189c6e-10ec-4089-8d3d-93b4a8d434da",
    "papermill": {
     "duration": 0.021944,
     "end_time": "2024-05-29T08:50:11.060621",
     "exception": false,
     "start_time": "2024-05-29T08:50:11.038677",
     "status": "completed"
    },
    "tags": []
   },
   "source": [
    "# Insights from Analysis 4\n",
    "\n",
    "Analysis 4 helps understand the **Average Price, and Price Range for each Product Category**\n",
    "\n",
    "This helps inform decisions based on:\n",
    "\n",
    "* Pricing Strategies: When setting prices for new products, retailers can consider the average price point of the category to ensure their products are competitively priced. In this case, Beauty products have the highest Average price.\n",
    "* Product Assortment: The significant difference between the minimum and maximum prices for each category (e.g., Electronics: 25 - 500) implies that the retailer offers a variety of products within each category at different price points. This allows customers to choose based on their needs and budget."
   ]
  },
  {
   "cell_type": "code",
   "execution_count": 18,
   "id": "dbc9e7c0",
   "metadata": {
    "_cell_guid": "1aa0addb-f79a-4e73-9654-6f07e5464ad6",
    "_uuid": "140329cf-0409-4efd-96c2-24d09ecf142b",
    "collapsed": false,
    "execution": {
     "iopub.execute_input": "2024-05-29T08:50:11.103711Z",
     "iopub.status.busy": "2024-05-29T08:50:11.102631Z",
     "iopub.status.idle": "2024-05-29T08:50:11.108629Z",
     "shell.execute_reply": "2024-05-29T08:50:11.107616Z"
    },
    "jupyter": {
     "outputs_hidden": false
    },
    "papermill": {
     "duration": 0.028389,
     "end_time": "2024-05-29T08:50:11.111187",
     "exception": false,
     "start_time": "2024-05-29T08:50:11.082798",
     "status": "completed"
    },
    "tags": []
   },
   "outputs": [],
   "source": [
    "# Close the connection\n",
    "conn.commit()  # Save changes (if any)\n",
    "conn.close()"
   ]
  },
  {
   "cell_type": "markdown",
   "id": "416593c0",
   "metadata": {
    "_cell_guid": "ddf45b05-ed5d-49ab-89f1-6aa9c2778733",
    "_uuid": "188734bb-853d-4303-b962-15a42e04cb2d",
    "papermill": {
     "duration": 0.014559,
     "end_time": "2024-05-29T08:50:11.142589",
     "exception": false,
     "start_time": "2024-05-29T08:50:11.128030",
     "status": "completed"
    },
    "tags": []
   },
   "source": [
    "I use the same dataset from these analyses, to perform **[Retail Sales EDA in Python](https://www.kaggle.com/code/wilfridawere/retail-sales-eda-in-python)**\n",
    "\n",
    "Feel free to Contact me for any changes and feedback\n",
    "\n",
    "***Explore and be teachable***"
   ]
  }
 ],
 "metadata": {
  "kaggle": {
   "accelerator": "none",
   "dataSources": [
    {
     "datasetId": 3655505,
     "sourceId": 6347913,
     "sourceType": "datasetVersion"
    }
   ],
   "dockerImageVersionId": 30698,
   "isGpuEnabled": false,
   "isInternetEnabled": true,
   "language": "python",
   "sourceType": "notebook"
  },
  "kernelspec": {
   "display_name": "Python 3",
   "language": "python",
   "name": "python3"
  },
  "language_info": {
   "codemirror_mode": {
    "name": "ipython",
    "version": 3
   },
   "file_extension": ".py",
   "mimetype": "text/x-python",
   "name": "python",
   "nbconvert_exporter": "python",
   "pygments_lexer": "ipython3",
   "version": "3.10.13"
  },
  "papermill": {
   "default_parameters": {},
   "duration": 9.180965,
   "end_time": "2024-05-29T08:50:11.779192",
   "environment_variables": {},
   "exception": null,
   "input_path": "__notebook__.ipynb",
   "output_path": "__notebook__.ipynb",
   "parameters": {},
   "start_time": "2024-05-29T08:50:02.598227",
   "version": "2.5.0"
  }
 },
 "nbformat": 4,
 "nbformat_minor": 5
}
